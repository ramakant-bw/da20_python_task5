{
 "cells": [
  {
   "cell_type": "markdown",
   "id": "1ba20bfe",
   "metadata": {},
   "source": [
    "# Function Examples"
   ]
  },
  {
   "cell_type": "markdown",
   "id": "e15454be",
   "metadata": {},
   "source": [
    "* Function for converting Celsius to Fahrenheit and vice versa"
   ]
  },
  {
   "cell_type": "code",
   "execution_count": 34,
   "id": "f4ae79c4",
   "metadata": {},
   "outputs": [
    {
     "data": {
      "text/plain": [
       "11.11111111111111"
      ]
     },
     "execution_count": 34,
     "metadata": {},
     "output_type": "execute_result"
    }
   ],
   "source": [
    "def TempConvertor(temp, degree):\n",
    "    if degree == 'F':\n",
    "        result = (temp * 9/5) + 32\n",
    "\n",
    "    elif degree == 'C':\n",
    "        result = (temp - 32) * 5/9\n",
    "\n",
    "    else: result = 'value out of range'\n",
    "\n",
    "    return result \n",
    "\n",
    "\n",
    "TempConvertor(52, 'C')"
   ]
  },
  {
   "cell_type": "markdown",
   "id": "7628becd",
   "metadata": {},
   "source": [
    "* BMI Calculator"
   ]
  },
  {
   "cell_type": "code",
   "execution_count": 38,
   "id": "69407044",
   "metadata": {},
   "outputs": [
    {
     "data": {
      "text/plain": [
       "'Rahul your BMI is 19.031141868512112, you are normal'"
      ]
     },
     "execution_count": 38,
     "metadata": {},
     "output_type": "execute_result"
    }
   ],
   "source": [
    "def MyBMI(name, weight, height):\n",
    "\n",
    "    BMI = weight / (height * height)\n",
    "    if BMI <= 18.5:\n",
    "        result = f'{name} your BMI is {BMI}, you are unedrweight'\n",
    "\n",
    "    elif 18.5 <= BMI <= 24.9:\n",
    "        result = f'{name} your BMI is {BMI}, you are normal'\n",
    "\n",
    "    elif 25 <= BMI <= 29.9:\n",
    "        result = f'{name} your BMI is {BMI}, you are overweight'\n",
    "\n",
    "    elif BMI >= 30:\n",
    "        result = f'{name} your BMI is {BMI}, you are obese'\n",
    "\n",
    "    else: return 'please check value'\n",
    "\n",
    "    return result\n",
    "\n",
    "\n",
    "MyBMI('Rahul', 55, 1.70)"
   ]
  },
  {
   "cell_type": "markdown",
   "id": "9a46bc60",
   "metadata": {},
   "source": [
    "* "
   ]
  },
  {
   "cell_type": "code",
   "execution_count": null,
   "id": "48709ac8",
   "metadata": {},
   "outputs": [],
   "source": []
  }
 ],
 "metadata": {
  "kernelspec": {
   "display_name": "Python 3",
   "language": "python",
   "name": "python3"
  },
  "language_info": {
   "codemirror_mode": {
    "name": "ipython",
    "version": 3
   },
   "file_extension": ".py",
   "mimetype": "text/x-python",
   "name": "python",
   "nbconvert_exporter": "python",
   "pygments_lexer": "ipython3",
   "version": "3.13.7"
  }
 },
 "nbformat": 4,
 "nbformat_minor": 5
}
