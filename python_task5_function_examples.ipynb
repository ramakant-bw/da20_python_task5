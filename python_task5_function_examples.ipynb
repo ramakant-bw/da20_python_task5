{
 "cells": [
  {
   "cell_type": "markdown",
   "id": "1ba20bfe",
   "metadata": {},
   "source": [
    "# Function Examples"
   ]
  },
  {
   "cell_type": "markdown",
   "id": "e15454be",
   "metadata": {},
   "source": [
    "* Temp Convertor"
   ]
  },
  {
   "cell_type": "code",
   "execution_count": 10,
   "id": "f4ae79c4",
   "metadata": {},
   "outputs": [
    {
     "name": "stdout",
     "output_type": "stream",
     "text": [
      "11.11111111111111\n"
     ]
    }
   ],
   "source": [
    "def TempConvertor(temp, degree):\n",
    "    if degree == 'F':\n",
    "        result = (temp * 9/5) + 32\n",
    "\n",
    "    elif degree == 'C':\n",
    "        result = (temp - 32) * 5/9\n",
    "\n",
    "    else: result = 'value out of range'\n",
    "\n",
    "    return result \n",
    "\n",
    "\n",
    "Temp_C = TempConvertor(52, 'C')\n",
    "\n",
    "print(Temp_C)"
   ]
  },
  {
   "cell_type": "markdown",
   "id": "7628becd",
   "metadata": {},
   "source": [
    "* BMI Calculator"
   ]
  },
  {
   "cell_type": "code",
   "execution_count": 9,
   "id": "69407044",
   "metadata": {},
   "outputs": [
    {
     "name": "stdout",
     "output_type": "stream",
     "text": [
      "Rahul your BMI is 19.031141868512112, you are normal\n"
     ]
    }
   ],
   "source": [
    "def MyBMI(name, weight, height):\n",
    "\n",
    "    BMI = weight / (height * height)\n",
    "    if BMI <= 18.5:\n",
    "        result = f'{name} your BMI is {BMI}, you are unedrweight'\n",
    "\n",
    "    elif 18.5 <= BMI <= 24.9:\n",
    "        result = f'{name} your BMI is {BMI}, you are normal'\n",
    "\n",
    "    elif 25 <= BMI <= 29.9:\n",
    "        result = f'{name} your BMI is {BMI}, you are overweight'\n",
    "\n",
    "    elif BMI >= 30:\n",
    "        result = f'{name} your BMI is {BMI}, you are obese'\n",
    "\n",
    "    else: return 'please check value'\n",
    "\n",
    "    return result\n",
    "\n",
    "\n",
    "BMI = MyBMI('Rahul', 55, 1.70)\n",
    "\n",
    "print(BMI)"
   ]
  },
  {
   "cell_type": "markdown",
   "id": "9a46bc60",
   "metadata": {},
   "source": [
    "* Contact Lookup"
   ]
  },
  {
   "cell_type": "code",
   "execution_count": 11,
   "id": "48709ac8",
   "metadata": {},
   "outputs": [
    {
     "name": "stdout",
     "output_type": "stream",
     "text": [
      "Ajay number is 9123456780\n"
     ]
    }
   ],
   "source": [
    "\n",
    "contacts = {\n",
    "    \"Rahul\": \"9876543210\",\n",
    "    \"Ajay\": \"9123456780\",\n",
    "    \"Shimran\": \"9988776515\",\n",
    "    \"Dadu\": \"9012345678\"\n",
    "}\n",
    "\n",
    "\n",
    "def lookup_contact(name, contacts):\n",
    "    if name in contacts:\n",
    "        return f\"{name} number is {contacts[name]}\"\n",
    "    else:\n",
    "        return f\"{name} not found in contacts.\"\n",
    "    \n",
    "\n",
    "print(lookup_contact(\"Ajay\", contacts))\n",
    "\n"
   ]
  },
  {
   "cell_type": "markdown",
   "id": "43f2a68a",
   "metadata": {},
   "source": [
    "* Expence Splitt"
   ]
  },
  {
   "cell_type": "code",
   "execution_count": 13,
   "id": "a018b833",
   "metadata": {},
   "outputs": [
    {
     "name": "stdout",
     "output_type": "stream",
     "text": [
      "per head 110.4 ruppee sould be paid by all\n"
     ]
    }
   ],
   "source": [
    "def expence_split( amount, persons):\n",
    "    per_head =amount / persons\n",
    "    return f'per head {per_head} ruppee sould be paid by all'\n",
    "\n",
    "print(expence_split(552, 5))"
   ]
  },
  {
   "cell_type": "markdown",
   "id": "9fb20220",
   "metadata": {},
   "source": [
    "* Discount Check"
   ]
  },
  {
   "cell_type": "code",
   "execution_count": 20,
   "id": "ce6bac68",
   "metadata": {},
   "outputs": [
    {
     "name": "stdout",
     "output_type": "stream",
     "text": [
      "for price 500 rupee discount is 20 % and final price is 400.0 ruppee\n"
     ]
    }
   ],
   "source": [
    "def discount_check(discount, price):\n",
    "\n",
    "    discounted_price = price * (1-discount/100)\n",
    "    return f'for price {price} rupee discount is {discount} % and final price is {discounted_price} ruppee'\n",
    "\n",
    "final_price = discount_check(20, 500)\n",
    "\n",
    "print(final_price)"
   ]
  },
  {
   "cell_type": "markdown",
   "id": "0581722c",
   "metadata": {},
   "source": [
    "* Weather Advice"
   ]
  },
  {
   "cell_type": "code",
   "execution_count": 36,
   "id": "6b45982c",
   "metadata": {},
   "outputs": [
    {
     "name": "stdout",
     "output_type": "stream",
     "text": [
      "hello rahul Don't forget your umbrella!\n"
     ]
    }
   ],
   "source": [
    "def weather_advice(name , weather): \n",
    "    \n",
    "    if weather == \"sunny\":\n",
    "        msg = \"It's a bright and beautiful day!\"\n",
    "    elif weather == \"rainy\":\n",
    "        msg = \"Don't forget your umbrella!\"\n",
    "    elif weather == \"cloudy\":\n",
    "        msg = \"Looks like it might rain.\"\n",
    "    else:\n",
    "        msg = \"Hope the weather is well.\"\n",
    "\n",
    "    return f'hello {name} {msg}'\n",
    "\n",
    "\n",
    "\n",
    "print(weather_advice('rahul', 'rainy'))"
   ]
  },
  {
   "cell_type": "markdown",
   "id": "1a6fb85c",
   "metadata": {},
   "source": [
    "* word joiner"
   ]
  },
  {
   "cell_type": "code",
   "execution_count": 39,
   "id": "3dd4c441",
   "metadata": {},
   "outputs": [
    {
     "name": "stdout",
     "output_type": "stream",
     "text": [
      "Hi How are you\n"
     ]
    }
   ],
   "source": [
    "set = ['hey', 'what', 'is', 'going', 'on' ]\n",
    "set2 = ['Hi', 'How', 'are', 'you' ]\n",
    "\n",
    "\n",
    "def join_sentence(words):\n",
    "    sentence = \" \".join(words)\n",
    "    return sentence\n",
    "\n",
    "print(join_sentence(set2))\n"
   ]
  },
  {
   "cell_type": "markdown",
   "id": "490737c7",
   "metadata": {},
   "source": [
    "* Total Price and tax calculator"
   ]
  },
  {
   "cell_type": "code",
   "execution_count": 1,
   "id": "4ce39a0f",
   "metadata": {},
   "outputs": [
    {
     "name": "stdout",
     "output_type": "stream",
     "text": [
      "your final total price is 525.0 rupee\n"
     ]
    }
   ],
   "source": [
    "def total_price(price, quantity, tax_rate):\n",
    "    total = price * quantity\n",
    "    tax = total * tax_rate/100\n",
    "    grand_total = total + tax\n",
    "\n",
    "    return f'your final total price is {grand_total} rupee'\n",
    "\n",
    "\n",
    "print(total_price(250, 2, 5))\n"
   ]
  },
  {
   "cell_type": "markdown",
   "id": "9242b261",
   "metadata": {},
   "source": [
    "* Greeting"
   ]
  },
  {
   "cell_type": "code",
   "execution_count": 44,
   "id": "ea40e950",
   "metadata": {},
   "outputs": [
    {
     "name": "stdout",
     "output_type": "stream",
     "text": [
      "Good morning rahul, Have a Nice Day\n"
     ]
    }
   ],
   "source": [
    "def greet_user(name, time):\n",
    "    if time == \"morning\":\n",
    "        greeting = \"Good morning\"\n",
    "    elif time == \"afternoon\":\n",
    "        greeting = \"Good afternoon\"\n",
    "    elif time == \"evening\":\n",
    "        greeting = \"Good evening\"\n",
    "    else:\n",
    "        greeting = \"Hello\"\n",
    "\n",
    "    return f'{greeting} {name}, Have a Nice Day'\n",
    "\n",
    "\n",
    "print(greet_user('rahul', 'morning'))"
   ]
  },
  {
   "cell_type": "markdown",
   "id": "3bfef672",
   "metadata": {},
   "source": [
    "* Eligibility Check"
   ]
  },
  {
   "cell_type": "code",
   "execution_count": 54,
   "id": "cc88a384",
   "metadata": {},
   "outputs": [
    {
     "name": "stdout",
     "output_type": "stream",
     "text": [
      "surya is not eligible. Minimum age 18 and experience 2 years is required.\n"
     ]
    }
   ],
   "source": [
    "def job_eligibility(name, age, experience):\n",
    "    if age >= 18 and experience >= 2:\n",
    "        return f\"{name} is eligible to apply.\"\n",
    "    else:\n",
    "        return f\"{name} is not eligible. Minimum age 18 and experience 2 years is required.\"\n",
    "    \n",
    "job_update = job_eligibility('surya', 25, 1)\n",
    "print(job_update)\n"
   ]
  }
 ],
 "metadata": {
  "kernelspec": {
   "display_name": "Python 3",
   "language": "python",
   "name": "python3"
  },
  "language_info": {
   "codemirror_mode": {
    "name": "ipython",
    "version": 3
   },
   "file_extension": ".py",
   "mimetype": "text/x-python",
   "name": "python",
   "nbconvert_exporter": "python",
   "pygments_lexer": "ipython3",
   "version": "3.13.7"
  }
 },
 "nbformat": 4,
 "nbformat_minor": 5
}
