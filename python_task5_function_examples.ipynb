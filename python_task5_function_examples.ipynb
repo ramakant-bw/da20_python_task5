{
 "cells": [
  {
   "cell_type": "markdown",
   "id": "1ba20bfe",
   "metadata": {},
   "source": [
    "# Function Examples"
   ]
  },
  {
   "cell_type": "markdown",
   "id": "e15454be",
   "metadata": {},
   "source": [
    "* Temp Convertor"
   ]
  },
  {
   "cell_type": "code",
   "execution_count": 10,
   "id": "f4ae79c4",
   "metadata": {},
   "outputs": [
    {
     "name": "stdout",
     "output_type": "stream",
     "text": [
      "11.11111111111111\n"
     ]
    }
   ],
   "source": [
    "def TempConvertor(temp, degree):\n",
    "    if degree == 'F':\n",
    "        result = (temp * 9/5) + 32\n",
    "\n",
    "    elif degree == 'C':\n",
    "        result = (temp - 32) * 5/9\n",
    "\n",
    "    else: result = 'value out of range'\n",
    "\n",
    "    return result \n",
    "\n",
    "\n",
    "Temp_C = TempConvertor(52, 'C')\n",
    "\n",
    "print(Temp_C)"
   ]
  },
  {
   "cell_type": "markdown",
   "id": "7628becd",
   "metadata": {},
   "source": [
    "* BMI Calculator"
   ]
  },
  {
   "cell_type": "code",
   "execution_count": 9,
   "id": "69407044",
   "metadata": {},
   "outputs": [
    {
     "name": "stdout",
     "output_type": "stream",
     "text": [
      "Rahul your BMI is 19.031141868512112, you are normal\n"
     ]
    }
   ],
   "source": [
    "def MyBMI(name, weight, height):\n",
    "\n",
    "    BMI = weight / (height * height)\n",
    "    if BMI <= 18.5:\n",
    "        result = f'{name} your BMI is {BMI}, you are unedrweight'\n",
    "\n",
    "    elif 18.5 <= BMI <= 24.9:\n",
    "        result = f'{name} your BMI is {BMI}, you are normal'\n",
    "\n",
    "    elif 25 <= BMI <= 29.9:\n",
    "        result = f'{name} your BMI is {BMI}, you are overweight'\n",
    "\n",
    "    elif BMI >= 30:\n",
    "        result = f'{name} your BMI is {BMI}, you are obese'\n",
    "\n",
    "    else: return 'please check value'\n",
    "\n",
    "    return result\n",
    "\n",
    "\n",
    "BMI = MyBMI('Rahul', 55, 1.70)\n",
    "\n",
    "print(BMI)"
   ]
  },
  {
   "cell_type": "markdown",
   "id": "9a46bc60",
   "metadata": {},
   "source": [
    "* Contact Lookup"
   ]
  },
  {
   "cell_type": "code",
   "execution_count": 11,
   "id": "48709ac8",
   "metadata": {},
   "outputs": [
    {
     "name": "stdout",
     "output_type": "stream",
     "text": [
      "Ajay number is 9123456780\n"
     ]
    }
   ],
   "source": [
    "\n",
    "contacts = {\n",
    "    \"Rahul\": \"9876543210\",\n",
    "    \"Ajay\": \"9123456780\",\n",
    "    \"Shimran\": \"9988776515\",\n",
    "    \"Dadu\": \"9012345678\"\n",
    "}\n",
    "\n",
    "\n",
    "def lookup_contact(name, contacts):\n",
    "    if name in contacts:\n",
    "        return f\"{name} number is {contacts[name]}\"\n",
    "    else:\n",
    "        return f\"{name} not found in contacts.\"\n",
    "    \n",
    "\n",
    "print(lookup_contact(\"Ajay\", contacts))\n",
    "\n"
   ]
  },
  {
   "cell_type": "markdown",
   "id": "43f2a68a",
   "metadata": {},
   "source": [
    "* Expence Splitter"
   ]
  },
  {
   "cell_type": "code",
   "execution_count": 13,
   "id": "a018b833",
   "metadata": {},
   "outputs": [
    {
     "name": "stdout",
     "output_type": "stream",
     "text": [
      "per head 110.4 ruppee sould be paid by all\n"
     ]
    }
   ],
   "source": [
    "def expence_split( amount, persons):\n",
    "    per_head =amount / persons\n",
    "    return f'per head {per_head} ruppee sould be paid by all'\n",
    "\n",
    "print(expence_split(552, 5))"
   ]
  },
  {
   "cell_type": "markdown",
   "id": "9fb20220",
   "metadata": {},
   "source": [
    "* Discount Check"
   ]
  },
  {
   "cell_type": "code",
   "execution_count": 20,
   "id": "ce6bac68",
   "metadata": {},
   "outputs": [
    {
     "name": "stdout",
     "output_type": "stream",
     "text": [
      "for price 500 rupee discount is 20 % and final price is 400.0 ruppee\n"
     ]
    }
   ],
   "source": [
    "def discount_check(discount, price):\n",
    "\n",
    "    discounted_price = price * (1-discount/100)\n",
    "    return f'for price {price} rupee discount is {discount} % and final price is {discounted_price} ruppee'\n",
    "\n",
    "final_price = discount_check(20, 500)\n",
    "\n",
    "print(final_price)"
   ]
  }
 ],
 "metadata": {
  "kernelspec": {
   "display_name": "Python 3",
   "language": "python",
   "name": "python3"
  },
  "language_info": {
   "codemirror_mode": {
    "name": "ipython",
    "version": 3
   },
   "file_extension": ".py",
   "mimetype": "text/x-python",
   "name": "python",
   "nbconvert_exporter": "python",
   "pygments_lexer": "ipython3",
   "version": "3.13.7"
  }
 },
 "nbformat": 4,
 "nbformat_minor": 5
}
